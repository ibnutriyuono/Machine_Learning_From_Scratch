{
 "cells": [
  {
   "cell_type": "code",
   "execution_count": 1,
   "metadata": {},
   "outputs": [],
   "source": [
    "import numpy as np\n",
    "import matplotlib.pyplot as plt"
   ]
  },
  {
   "cell_type": "code",
   "execution_count": 2,
   "metadata": {},
   "outputs": [],
   "source": [
    "class SVM:\n",
    "    def __init__(self, X, y, kernel_type=\"linear\", max_iter=10000, C=1.0, tolerance=0.001):\n",
    "        # parameters\n",
    "        self.kernels = {\n",
    "            'linear': self.kernel_linear,\n",
    "            'quadratic': self.kernel_quadratic\n",
    "        }\n",
    "        self.kernel_type = kernel_type\n",
    "\n",
    "        self.max_passes = max_iter # max passes\n",
    "        self.C = C # regularization paramtere\n",
    "        self.tol = tolerance # tolerance\n",
    "\n",
    "        # input/training-data\n",
    "        self.X = X\n",
    "        self.N, self.D = self.X.shape\n",
    "        self.y = y\n",
    "\n",
    "\n",
    "    def fit(self):\n",
    "        alpha = np.zeros((self.N, ))\n",
    "        b = 0\n",
    "        passes = 0\n",
    "        kernel = self.kernels[self.kernel_type]\n",
    "        while passes < self.max_passes:\n",
    "            num_changed_alphas = 0\n",
    "            for i in range(self.N):\n",
    "                Ei = self.get_Ek(i, self.get_w(alpha), b)\n",
    "                if(((self.y[i]*Ei) < -self.tol and alpha[i] < self.C) or ((self.y[i]*Ei) > self.tol and alpha[i] > 0)):\n",
    "                    j = self.get_rnd_int(self.N-1, i)  # Get random int i~=j\n",
    "                    Ej = self.get_Ek(j, self.get_w(alpha), b)\n",
    "\n",
    "                    alpha_old = np.copy(alpha) # save old alphas\n",
    "\n",
    "                    L,H = self.get_L_H(alpha[j], alpha[i], self.y[j], self.y[i])\n",
    "\n",
    "                    if(L == H):\n",
    "                        continue\n",
    "                    eta = -kernel(self.X[i], self.X[i]) -kernel(self.X[j], self.X[j]) + 2 * kernel(self.X[i], self.X[j])\n",
    "                    if(eta>=0):\n",
    "                        continue\n",
    "                    alpha[j] = alpha[j] - self.y[j]*((Ei - Ej)/eta)\n",
    "                    alpha[j] = max(alpha[j], L)\n",
    "                    alpha[j] = min(alpha[j], H)\n",
    "                    if(abs(alpha[j] - alpha_old[j]) < 1e-5):\n",
    "                        continue\n",
    "\n",
    "                    alpha[i] = alpha_old[i] + self.y[i]*self.y[j] * (alpha_old[j] - alpha[j])\n",
    "\n",
    "                    b1 = b - Ei - self.y[i]*(alpha[i] - alpha_old[i])*np.dot(self.X[i], self.X[i].T) - self.y[j]*(alpha[j] - alpha_old[j])*np.dot(self.X[i], self.X[j].T)\n",
    "                    b2 = b - Ej - self.y[i]*(alpha[i] - alpha_old[i])*np.dot(self.X[i], self.X[j].T) - self.y[j]*(alpha[j] - alpha_old[j])*np.dot(self.X[j], self.X[j].T)\n",
    "                    if((0 < alpha[i] and alpha[i] < self.C) and (0 < alpha[j] and alpha[j] < self.C)):\n",
    "                        b = (b1 + b2)/2\n",
    "                    elif((0 < alpha[i] and alpha[i] < self.C)):\n",
    "                        b = b1\n",
    "                    elif ((0 < alpha[j] and alpha[j] < self.C)):\n",
    "                        b = b2\n",
    "\n",
    "                    num_changed_alphas+=1\n",
    "\n",
    "            if(num_changed_alphas == 0):\n",
    "                passes+=1\n",
    "            else:\n",
    "                passes = 0\n",
    "\n",
    "        self.alpha = alpha\n",
    "        self.w = self.get_w(alpha)\n",
    "        self.b = b\n",
    "\n",
    "        # print(passes)\n",
    "\n",
    "        alpha_idx = np.where(alpha > 0)[0]\n",
    "        support_vectors = self.X[alpha_idx, :]\n",
    "        return support_vectors, passes\n",
    "\n",
    "    def predict(self, X):\n",
    "        # kernel = self.kernels[self.kernel_type]\n",
    "        # eval = np.sign(np.dot(np.multiply(self.alpha, self.y), kernel(X, X)) + self.b).astype(int)\n",
    "\n",
    "        return np.sign(np.dot(self.w, X.T) + self.b).astype(int)\n",
    "\n",
    "    def get_w(self, alpha):\n",
    "        return np.dot(np.multiply(alpha, self.y), self.X)\n",
    "\n",
    "    def get_rnd_int(self, n, z):\n",
    "        # TODO: If does not work, use external method\n",
    "        arr = np.arange(n)\n",
    "        np.random.shuffle(arr)\n",
    "        if arr[0] == z:\n",
    "            return arr[1]\n",
    "        else:\n",
    "            return arr[0]\n",
    "\n",
    "    def f(self, i, w, b):\n",
    "        return np.sign(np.dot(w.T, self.X[i].T) + b).astype(int)\n",
    "\n",
    "    def get_Ek(self, i, w, b):\n",
    "        # print(np.dot(w.T, self.X[i].T) + b, self.y[i], self.X[i])\n",
    "        return self.f(i,  w, b) - self.y[i]\n",
    "\n",
    "    def get_L_H(self, alpha_j, alpha_i, y_j, y_i):\n",
    "        if (y_i != y_j):\n",
    "            return (max(0, alpha_j - alpha_i), min(self.C, self.C - alpha_i + alpha_j))\n",
    "        else:\n",
    "            return (max(0, alpha_i + alpha_j - self.C), min(self.C, alpha_i + alpha_j))\n",
    "#\n",
    "    #  Define kernels\n",
    "    def kernel_linear(self, x1, x2):\n",
    "        return np.dot(x1, x2.T)\n",
    "    def kernel_quadratic(self, x1, x2):\n",
    "        return (np.dot(x1, x2.T) ** 2)"
   ]
  },
  {
   "cell_type": "code",
   "execution_count": 3,
   "metadata": {},
   "outputs": [],
   "source": [
    "from sklearn import datasets\n",
    "from sklearn.model_selection import train_test_split"
   ]
  },
  {
   "cell_type": "code",
   "execution_count": 4,
   "metadata": {},
   "outputs": [],
   "source": [
    "iris = datasets.load_iris()\n",
    "X = iris.data\n",
    "y = iris.target"
   ]
  },
  {
   "cell_type": "code",
   "execution_count": 5,
   "metadata": {},
   "outputs": [],
   "source": [
    "class_chosen = 1 # only this class is chosen\n",
    "y = np.asarray([-1 if y[i]!=class_chosen else 1 for i in range(y.shape[0])])"
   ]
  },
  {
   "cell_type": "code",
   "execution_count": 6,
   "metadata": {},
   "outputs": [],
   "source": [
    "X_train, X_test, y_train, y_test = train_test_split(X, y, test_size = 0.2, random_state = 42)"
   ]
  },
  {
   "cell_type": "code",
   "execution_count": 7,
   "metadata": {},
   "outputs": [],
   "source": [
    "# print(\"Support vector count: %d\" % (sv_count))\n",
    "# print(\"bias:\\t\\t%.3f\" % (model.b))\n",
    "# print(\"w:\\t\\t\" + str(model.w))\n",
    "# print(\"accuracy:\\t%.3f\" % (acc))\n",
    "# print(\"Converged after %d iterations\" % (iterations))"
   ]
  },
  {
   "cell_type": "code",
   "execution_count": 8,
   "metadata": {},
   "outputs": [],
   "source": [
    "from skimage.feature import hog\n",
    "from skimage import data, exposure\n",
    "import cv2\n",
    "def load_images(folder):\n",
    "#     images = [np.array([])]\n",
    "    images = []\n",
    "    for filename in os.listdir(folder):\n",
    "        img = cv2.imread(os.path.join(folder,filename))\n",
    "        img = cv2.resize(img,(20,20))\n",
    "        fd, hog_image = hog(img, orientations=8, pixels_per_cell=(16, 16),\n",
    "                    cells_per_block=(1, 1), visualize=True, multichannel=True)\n",
    "#         hog_image_rescaled = exposure.rescale_intensity(hog_image, in_range=(0, 10))\n",
    "        if img is not None:\n",
    "            hog_image = hog_image.flatten()\n",
    "#             images= np.append(images,hog_image_rescaled)\n",
    "            images.append(hog_image)\n",
    "            output = np.vstack(images)\n",
    "#             images=np.vstack([hog_image_rescaled, hog_image_rescaled])\n",
    "    return output"
   ]
  },
  {
   "cell_type": "code",
   "execution_count": 9,
   "metadata": {},
   "outputs": [],
   "source": [
    "import os\n",
    "imgdata = load_images('../../../data')"
   ]
  },
  {
   "cell_type": "code",
   "execution_count": 10,
   "metadata": {},
   "outputs": [
    {
     "data": {
      "text/plain": [
       "(50, 400)"
      ]
     },
     "execution_count": 10,
     "metadata": {},
     "output_type": "execute_result"
    }
   ],
   "source": [
    "imgdata.shape"
   ]
  },
  {
   "cell_type": "code",
   "execution_count": 11,
   "metadata": {},
   "outputs": [],
   "source": [
    "labels = np.array([])\n",
    "for i in range(25):\n",
    "    labels = np.append(labels,1)"
   ]
  },
  {
   "cell_type": "code",
   "execution_count": 12,
   "metadata": {},
   "outputs": [],
   "source": [
    "for i in range(25):\n",
    "    labels = np.append(labels,-1)"
   ]
  },
  {
   "cell_type": "code",
   "execution_count": 13,
   "metadata": {},
   "outputs": [
    {
     "data": {
      "text/plain": [
       "(50,)"
      ]
     },
     "execution_count": 13,
     "metadata": {},
     "output_type": "execute_result"
    }
   ],
   "source": [
    "labels.shape"
   ]
  },
  {
   "cell_type": "code",
   "execution_count": 14,
   "metadata": {},
   "outputs": [],
   "source": [
    "C=1.0\n",
    "epsilon=0.0001\n",
    "model = SVM(imgdata, labels, C=C, tolerance=epsilon)"
   ]
  },
  {
   "cell_type": "code",
   "execution_count": 15,
   "metadata": {},
   "outputs": [],
   "source": [
    "import sys\n",
    "np.set_printoptions(threshold=sys.maxsize)"
   ]
  },
  {
   "cell_type": "code",
   "execution_count": 16,
   "metadata": {},
   "outputs": [],
   "source": [
    "support_vectors, iterations = model.fit()"
   ]
  },
  {
   "cell_type": "code",
   "execution_count": 17,
   "metadata": {},
   "outputs": [],
   "source": [
    "sv_count = support_vectors.shape[0]"
   ]
  },
  {
   "cell_type": "code",
   "execution_count": 18,
   "metadata": {},
   "outputs": [
    {
     "data": {
      "text/plain": [
       "(400,)"
      ]
     },
     "execution_count": 18,
     "metadata": {},
     "output_type": "execute_result"
    }
   ],
   "source": [
    "alien1 = cv2.imread('../../../data/alien1.jpg')\n",
    "alien1 = cv2.resize(alien1,(20,20))\n",
    "fd, alien1 = hog(alien1, orientations=8, pixels_per_cell=(16, 16),\n",
    "                    cells_per_block=(1, 1), visualize=True, multichannel=True)\n",
    "alien1 = alien1.flatten()\n",
    "alien1.shape"
   ]
  },
  {
   "cell_type": "code",
   "execution_count": 19,
   "metadata": {},
   "outputs": [
    {
     "data": {
      "text/plain": [
       "(400,)"
      ]
     },
     "execution_count": 19,
     "metadata": {},
     "output_type": "execute_result"
    }
   ],
   "source": [
    "predator1 = cv2.imread('../../../data/predator2.jpg')\n",
    "predator1 = cv2.resize(predator1,(20,20))\n",
    "fd, predator1 = hog(predator1, orientations=8, pixels_per_cell=(16, 16),\n",
    "                    cells_per_block=(1, 1), visualize=True, multichannel=True)\n",
    "predator1 = predator1.flatten()\n",
    "predator1.shape"
   ]
  },
  {
   "cell_type": "code",
   "execution_count": 20,
   "metadata": {},
   "outputs": [
    {
     "data": {
      "text/plain": [
       "-1"
      ]
     },
     "execution_count": 20,
     "metadata": {},
     "output_type": "execute_result"
    }
   ],
   "source": [
    "pred = model.predict(predator1)\n",
    "pred"
   ]
  },
  {
   "cell_type": "code",
   "execution_count": 21,
   "metadata": {},
   "outputs": [],
   "source": [
    "def load_predict(folder):\n",
    "    predictions = np.array([])\n",
    "    w= np.array([])\n",
    "    b= np.array([])\n",
    "    for filename in os.listdir(folder):\n",
    "        img = cv2.imread(os.path.join(folder,filename))\n",
    "        img = cv2.resize(img,(20,20))\n",
    "        fd, hog_image = hog(img, orientations=8, pixels_per_cell=(16, 16),\n",
    "                    cells_per_block=(1, 1), visualize=True, multichannel=True)\n",
    "        if img is not None:\n",
    "            predicted = hog_image.flatten()\n",
    "            prediction = model.predict(predicted)\n",
    "#             print(clf.w, clf.b, prediction)\n",
    "#             predictions = np.array(prediction)\n",
    "            predictions = np.append(predictions,prediction)\n",
    "    return predictions"
   ]
  },
  {
   "cell_type": "code",
   "execution_count": 22,
   "metadata": {},
   "outputs": [],
   "source": [
    "alienpredic = load_predict('../../dataset/image/validation/alien')"
   ]
  },
  {
   "cell_type": "code",
   "execution_count": 23,
   "metadata": {},
   "outputs": [
    {
     "data": {
      "text/plain": [
       "array([-1., -1., -1.,  1.,  1., -1.,  1., -1., -1.,  1.,  1.,  1., -1.,\n",
       "        1.,  1., -1., -1.,  1., -1.,  1., -1.,  1., -1.,  1., -1., -1.,\n",
       "        1., -1., -1., -1.,  1.,  1., -1., -1., -1., -1.,  1., -1.,  1.,\n",
       "        1., -1.,  1., -1., -1.,  1., -1., -1., -1.,  1., -1., -1., -1.,\n",
       "       -1., -1.,  1.,  1.,  1.,  1., -1.,  1.,  1.,  1.,  1., -1., -1.,\n",
       "       -1.,  1.,  1., -1., -1.,  1.,  1.,  1.,  1., -1., -1., -1., -1.,\n",
       "       -1., -1., -1., -1.,  1., -1., -1.,  1.,  1., -1., -1., -1.,  1.,\n",
       "       -1., -1., -1.,  1.,  1.,  1.,  1., -1., -1.])"
      ]
     },
     "execution_count": 23,
     "metadata": {},
     "output_type": "execute_result"
    }
   ],
   "source": [
    "alienpredic"
   ]
  },
  {
   "cell_type": "code",
   "execution_count": 24,
   "metadata": {},
   "outputs": [],
   "source": [
    "preadtorpredic = load_predict('../../dataset/image/validation/predator')"
   ]
  },
  {
   "cell_type": "code",
   "execution_count": 25,
   "metadata": {},
   "outputs": [
    {
     "data": {
      "text/plain": [
       "array([ 1.,  1.,  1., -1., -1., -1.,  1.,  1., -1.,  1.,  1., -1.,  1.,\n",
       "        1.,  1., -1., -1., -1.,  1.,  1.,  1., -1.,  1., -1., -1., -1.,\n",
       "        1.,  1., -1., -1., -1., -1., -1.,  1.,  1., -1., -1., -1.,  1.,\n",
       "       -1., -1., -1.,  1.,  1., -1., -1.,  1.,  1., -1., -1., -1.,  1.,\n",
       "       -1.,  1., -1., -1., -1., -1., -1.,  1., -1.,  1.,  1., -1., -1.,\n",
       "       -1., -1.,  1., -1., -1., -1., -1.,  1., -1.,  1.,  1.,  1., -1.,\n",
       "        1., -1.,  1.,  1.,  1.,  1., -1.,  1., -1., -1., -1., -1.,  1.,\n",
       "       -1., -1.,  1., -1.,  1.,  1.,  1.,  1.,  1.])"
      ]
     },
     "execution_count": 25,
     "metadata": {},
     "output_type": "execute_result"
    }
   ],
   "source": [
    "preadtorpredic"
   ]
  },
  {
   "cell_type": "code",
   "execution_count": 26,
   "metadata": {},
   "outputs": [
    {
     "name": "stdout",
     "output_type": "stream",
     "text": [
      "1 ALIEN\n",
      "2 ALIEN\n",
      "3 ALIEN\n",
      "4 ALIEN\n",
      "5 ALIEN\n",
      "6 ALIEN\n",
      "7 ALIEN\n",
      "8 ALIEN\n",
      "9 ALIEN\n",
      "10 ALIEN\n",
      "11 ALIEN\n",
      "12 ALIEN\n",
      "13 ALIEN\n",
      "14 ALIEN\n",
      "15 ALIEN\n",
      "16 ALIEN\n",
      "17 ALIEN\n",
      "18 ALIEN\n",
      "19 ALIEN\n",
      "20 ALIEN\n",
      "21 ALIEN\n",
      "22 ALIEN\n",
      "23 ALIEN\n",
      "24 ALIEN\n",
      "25 ALIEN\n",
      "26 ALIEN\n",
      "27 ALIEN\n",
      "28 ALIEN\n",
      "29 ALIEN\n",
      "30 ALIEN\n",
      "31 ALIEN\n",
      "32 ALIEN\n",
      "33 ALIEN\n",
      "34 ALIEN\n",
      "35 ALIEN\n",
      "36 ALIEN\n",
      "37 ALIEN\n",
      "38 ALIEN\n",
      "39 ALIEN\n",
      "40 ALIEN\n",
      "41 ALIEN\n",
      "42 ALIEN\n",
      "43 ALIEN\n"
     ]
    }
   ],
   "source": [
    "num = 0\n",
    "for i,val in enumerate(alienpredic.astype(int)):\n",
    "    if val == 1:\n",
    "        num += 1\n",
    "        print(num, \"ALIEN\")"
   ]
  },
  {
   "cell_type": "code",
   "execution_count": 27,
   "metadata": {},
   "outputs": [
    {
     "name": "stdout",
     "output_type": "stream",
     "text": [
      "1 PREDATOR\n",
      "2 PREDATOR\n",
      "3 PREDATOR\n",
      "4 PREDATOR\n",
      "5 PREDATOR\n",
      "6 PREDATOR\n",
      "7 PREDATOR\n",
      "8 PREDATOR\n",
      "9 PREDATOR\n",
      "10 PREDATOR\n",
      "11 PREDATOR\n",
      "12 PREDATOR\n",
      "13 PREDATOR\n",
      "14 PREDATOR\n",
      "15 PREDATOR\n",
      "16 PREDATOR\n",
      "17 PREDATOR\n",
      "18 PREDATOR\n",
      "19 PREDATOR\n",
      "20 PREDATOR\n",
      "21 PREDATOR\n",
      "22 PREDATOR\n",
      "23 PREDATOR\n",
      "24 PREDATOR\n",
      "25 PREDATOR\n",
      "26 PREDATOR\n",
      "27 PREDATOR\n",
      "28 PREDATOR\n",
      "29 PREDATOR\n",
      "30 PREDATOR\n",
      "31 PREDATOR\n",
      "32 PREDATOR\n",
      "33 PREDATOR\n",
      "34 PREDATOR\n",
      "35 PREDATOR\n",
      "36 PREDATOR\n",
      "37 PREDATOR\n",
      "38 PREDATOR\n",
      "39 PREDATOR\n",
      "40 PREDATOR\n",
      "41 PREDATOR\n",
      "42 PREDATOR\n",
      "43 PREDATOR\n",
      "44 PREDATOR\n",
      "45 PREDATOR\n",
      "46 PREDATOR\n",
      "47 PREDATOR\n",
      "48 PREDATOR\n",
      "49 PREDATOR\n",
      "50 PREDATOR\n",
      "51 PREDATOR\n",
      "52 PREDATOR\n",
      "53 PREDATOR\n",
      "54 PREDATOR\n"
     ]
    }
   ],
   "source": [
    "num = 0\n",
    "for i,val in enumerate(preadtorpredic.astype(int)):\n",
    "    if val == -1:\n",
    "        num += 1\n",
    "        print(num, \"PREDATOR\")"
   ]
  }
 ],
 "metadata": {
  "kernelspec": {
   "display_name": "Python 3",
   "language": "python",
   "name": "python3"
  },
  "language_info": {
   "codemirror_mode": {
    "name": "ipython",
    "version": 3
   },
   "file_extension": ".py",
   "mimetype": "text/x-python",
   "name": "python",
   "nbconvert_exporter": "python",
   "pygments_lexer": "ipython3",
   "version": "3.7.4"
  }
 },
 "nbformat": 4,
 "nbformat_minor": 2
}
